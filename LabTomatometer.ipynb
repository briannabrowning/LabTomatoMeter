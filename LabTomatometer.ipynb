{
 "cells": [
  {
   "cell_type": "code",
   "execution_count": 3,
   "id": "2dc2c732-6e5f-420c-b53d-fc1b7917beef",
   "metadata": {},
   "outputs": [],
   "source": [
    "# Import necessary PySpark functions\n",
    "from pyspark.sql import SparkSession\n",
    "import pyspark.sql.functions as F\n"
   ]
  },
  {
   "cell_type": "code",
   "execution_count": 4,
   "id": "7c38bff9-a963-4104-ade4-51bff5dd8838",
   "metadata": {},
   "outputs": [],
   "source": [
    "# Initialize SparkSession\n",
    "spark = SparkSession.builder.appName(\"Tomatometer\").getOrCreate()"
   ]
  },
  {
   "cell_type": "code",
   "execution_count": 5,
   "id": "dcfeb1fd-a47a-4d1c-bc2c-966815a4bb5c",
   "metadata": {},
   "outputs": [
    {
     "data": {
      "text/plain": [
       "DataFrame[id: string, title: string, audienceScore: int, tomatoMeter: int, rating: string, ratingContents: string, releaseDateTheaters: date, releaseDateStreaming: string, runtimeMinutes: int, genre: string, originalLanguage: string, director: string, writer: string, boxOffice: string, distributor: string, soundMix: string]"
      ]
     },
     "execution_count": 5,
     "metadata": {},
     "output_type": "execute_result"
    }
   ],
   "source": [
    "df = spark.read.csv('./data/rotten_tomatoes_movies.csv', header=True, inferSchema=True)\n",
    "df"
   ]
  },
  {
   "cell_type": "code",
   "execution_count": 6,
   "id": "9253b13b-ca6d-4c3c-9844-17cfb2e71dcd",
   "metadata": {
    "scrolled": true
   },
   "outputs": [
    {
     "name": "stdout",
     "output_type": "stream",
     "text": [
      "+--------------------+--------------------+-------------+-----------+------+--------------------+-------------------+--------------------+--------------+--------------------+----------------+--------------------+--------------------+---------+-----------------+--------+\n",
      "|                  id|               title|audienceScore|tomatoMeter|rating|      ratingContents|releaseDateTheaters|releaseDateStreaming|runtimeMinutes|               genre|originalLanguage|            director|              writer|boxOffice|      distributor|soundMix|\n",
      "+--------------------+--------------------+-------------+-----------+------+--------------------+-------------------+--------------------+--------------+--------------------+----------------+--------------------+--------------------+---------+-----------------+--------+\n",
      "|  space-zombie-bingo| Space Zombie Bingo!|           50|       NULL|  NULL|                NULL|               NULL|          2018-08-25|            75|Comedy, Horror, S...|         English|       George Ormrod|George Ormrod,Joh...|     NULL|             NULL|    NULL|\n",
      "|     the_green_grass|     The Green Grass|         NULL|       NULL|  NULL|                NULL|               NULL|          2020-02-11|           114|               Drama|         English|     Tiffany Edwards|     Tiffany Edwards|     NULL|             NULL|    NULL|\n",
      "|           love_lies|          Love, Lies|           43|       NULL|  NULL|                NULL|               NULL|                NULL|           120|               Drama|          Korean|Park Heung-Sik,He...|Ha Young-Joon,Jeo...|     NULL|             NULL|    NULL|\n",
      "|the_sore_losers_1997|         Sore Losers|           60|       NULL|  NULL|                NULL|               NULL|          2020-10-23|            90|Action, Mystery &...|         English|John Michael McCa...|John Michael McCa...|     NULL|             NULL|    NULL|\n",
      "|dinosaur_island_2002|     Dinosaur Island|           70|       NULL|  NULL|                NULL|               NULL|          2017-03-27|            80|Fantasy, Adventur...|         English|       Will Meugniot|            John Loy|     NULL|             NULL|    NULL|\n",
      "|         adrift_2018|              Adrift|           65|         69| PG-13|['Injury Images',...|         2018-06-01|          2018-08-21|           120|Adventure, Drama,...|         English|   Baltasar Kormákur|Aaron Kandell,Jor...|   $31.4M|        STX Films|    NULL|\n",
      "|malta-con-huevo-s...|      Scrambled Beer|           55|       NULL|  NULL|                NULL|               NULL|          2015-10-05|            88|              Comedy|         Spanish|Cristobal Valderrama|Cristobal Valderrama|     NULL|             NULL|    NULL|\n",
      "|    kakabakaba-ka-ba|Kakabakaba ka ba?...|           88|       NULL|  NULL|                NULL|               NULL|                NULL|          NULL|                NULL|            NULL|        Mike de Leon|                NULL|     NULL|             NULL|    NULL|\n",
      "|          sundowning|          Sundowning|         NULL|       NULL|  NULL|                NULL|               NULL|                NULL|           123|               Drama|         English|      Jim Comas Cole|                NULL|     NULL|             NULL|    NULL|\n",
      "|1035316-born_to_kill|        Born to Kill|           74|         83|  NULL|                NULL|         1947-04-30|          2016-05-23|            92|        Crime, Drama|         English|         Robert Wise|Eve Greene,Richar...|     NULL|             NULL|    NULL|\n",
      "|1015331-number_on...|Number One With a...|           19|       NULL|  NULL|                NULL|               NULL|          2012-03-13|           103|        Crime, Drama|         English|         Jack Smight|                NULL|     NULL|             NULL|    NULL|\n",
      "|  garden_murder_case|The Garden Murder...|         NULL|       NULL|  NULL|                NULL|               NULL|          2016-10-20|            61|  Mystery & thriller|         English|      Edwin L. Marin|                NULL|     NULL|             NULL|    NULL|\n",
      "|margarita_happy_hour|Margarita Happy Hour|         NULL|         76|  NULL|                NULL|         2002-03-22|                NULL|            98|               Drama|         English|        Ilya Chaiken|        Ilya Chaiken|   $11.5K|Passport Pictures|Surround|\n",
      "|  leap_of_faith_2019|Leap of Faith: Wi...|           86|         93|  NULL|                NULL|               NULL|          2020-11-19|           104|Documentary, Myst...|         English|Alexandre O. Phil...|Alexandre O. Phil...|     NULL|             NULL|    NULL|\n",
      "| shake-rattle-roll-3|Shake Rattle & Ro...|           89|       NULL|  NULL|                NULL|               NULL|          2019-01-04|           120|      Comedy, Horror|         Tagalog|Peque Gallaga,Lor...|                NULL|     NULL|             NULL|    NULL|\n",
      "|           daag_1973|           The Stain|           82|       NULL|  NULL|                NULL|               NULL|          2003-11-25|           146|               Drama|           Hindi|         Yash Chopra|Yash Chopra,Gulsh...|     NULL|             NULL|    NULL|\n",
      "|crown_vs_stevens_...|   Crown vs. Stevens|           60|       NULL|  NULL|                NULL|               NULL|                NULL|            66|Crime, Drama, Mys...|         English|      Michael Powell|      Brock Williams|     NULL|             NULL|    NULL|\n",
      "|         1221483-paa|                 Paa|           67|         50|  NULL|                NULL|         2009-12-04|                NULL|           133|               Drama|           Hindi|            R. Balki|            R. Balki|  $199.2K|     Big Pictures|    NULL|\n",
      "|f9ab9165-598c-3ac...|A Tale of Love an...|         NULL|       NULL|  NULL|                NULL|               NULL|                NULL|           103|               Drama| French (France)|        Leyla Bouzid|        Leyla Bouzid|     NULL|             NULL|    NULL|\n",
      "|  the_last_gentleman|  The Last Gentleman|         NULL|       NULL|  NULL|                NULL|               NULL|                NULL|            80|              Comedy|         English|     Sidney Lanfield|                NULL|     NULL|             NULL|    NULL|\n",
      "+--------------------+--------------------+-------------+-----------+------+--------------------+-------------------+--------------------+--------------+--------------------+----------------+--------------------+--------------------+---------+-----------------+--------+\n",
      "only showing top 20 rows\n",
      "\n"
     ]
    }
   ],
   "source": [
    "df.show()"
   ]
  },
  {
   "cell_type": "code",
   "execution_count": 7,
   "id": "b3679a0a-686b-4b95-9fa3-cbeaa56925ff",
   "metadata": {},
   "outputs": [
    {
     "name": "stdout",
     "output_type": "stream",
     "text": [
      "root\n",
      " |-- id: string (nullable = true)\n",
      " |-- title: string (nullable = true)\n",
      " |-- audienceScore: integer (nullable = true)\n",
      " |-- tomatoMeter: integer (nullable = true)\n",
      " |-- rating: string (nullable = true)\n",
      " |-- ratingContents: string (nullable = true)\n",
      " |-- releaseDateTheaters: date (nullable = true)\n",
      " |-- releaseDateStreaming: string (nullable = true)\n",
      " |-- runtimeMinutes: integer (nullable = true)\n",
      " |-- genre: string (nullable = true)\n",
      " |-- originalLanguage: string (nullable = true)\n",
      " |-- director: string (nullable = true)\n",
      " |-- writer: string (nullable = true)\n",
      " |-- boxOffice: string (nullable = true)\n",
      " |-- distributor: string (nullable = true)\n",
      " |-- soundMix: string (nullable = true)\n",
      "\n",
      "number of rows: 143258\n"
     ]
    }
   ],
   "source": [
    "df.printSchema()\n",
    "print(\"number of rows:\", df.count())"
   ]
  },
  {
   "cell_type": "markdown",
   "id": "8ec5a867-7a5f-47ec-8a3b-36f3ee28bd52",
   "metadata": {},
   "source": [
    "**Cleaning: Missing values**"
   ]
  },
  {
   "cell_type": "markdown",
   "id": "adbd7283-6f79-4022-a15d-4c50df7b3b76",
   "metadata": {},
   "source": [
    "Check for missing values in the audienceScore, tomatoMeter, and releaseDateTheaters columns. Handle them by removing rows with a null value in either of these columns."
   ]
  },
  {
   "cell_type": "code",
   "execution_count": 29,
   "id": "c3c8b4c9-2412-43cc-b6e5-dcf8d9dc0c75",
   "metadata": {},
   "outputs": [
    {
     "data": {
      "text/plain": [
       "70010"
      ]
     },
     "execution_count": 29,
     "metadata": {},
     "output_type": "execute_result"
    }
   ],
   "source": [
    "df.filter(F.col('audienceScore').isNull()).count()"
   ]
  },
  {
   "cell_type": "code",
   "execution_count": 9,
   "id": "c775231c-1d74-49ea-8aca-9e41ae71f664",
   "metadata": {},
   "outputs": [
    {
     "data": {
      "text/plain": [
       "109381"
      ]
     },
     "execution_count": 9,
     "metadata": {},
     "output_type": "execute_result"
    }
   ],
   "source": [
    "df.filter(F.col('tomatoMeter').isNull()).count()"
   ]
  },
  {
   "cell_type": "code",
   "execution_count": 10,
   "id": "804b7b2f-2552-43ba-90c0-ac2b5f772bf6",
   "metadata": {},
   "outputs": [
    {
     "data": {
      "text/plain": [
       "112485"
      ]
     },
     "execution_count": 10,
     "metadata": {},
     "output_type": "execute_result"
    }
   ],
   "source": [
    "df.filter(F.col('releaseDateTheaters').isNull()).count()"
   ]
  },
  {
   "cell_type": "code",
   "execution_count": 6,
   "id": "2a2722d7-e241-4bec-ab06-906f4c98b386",
   "metadata": {},
   "outputs": [
    {
     "name": "stdout",
     "output_type": "stream",
     "text": [
      "Toal rows 143258\n",
      "-RECORD 0----------------------\n",
      " id                   | 0      \n",
      " title                | 367    \n",
      " audienceScore        | 70010  \n",
      " tomatoMeter          | 109381 \n",
      " rating               | 129267 \n",
      " ratingContents       | 129267 \n",
      " releaseDateTheaters  | 112485 \n",
      " releaseDateStreaming | 63838  \n",
      " runtimeMinutes       | 13827  \n",
      " genre                | 11083  \n",
      " originalLanguage     | 13858  \n",
      " director             | 4194   \n",
      " writer               | 53142  \n",
      " boxOffice            | 128491 \n",
      " distributor          | 120248 \n",
      " soundMix             | 127333 \n",
      "\n"
     ]
    }
   ],
   "source": [
    "# creating a function\n",
    "\n",
    "def show_missing(df):\n",
    "    # show count of missing values\n",
    "    missing_values = df.select([F.count(F.when(F.col(c).isNull(), c)).alias(c) for c in df.columns])\n",
    "    print('Toal rows', df.count())\n",
    "    missing_values.show(vertical=True)\n",
    "show_missing(df)"
   ]
  },
  {
   "cell_type": "markdown",
   "id": "e57149e8-ee48-4747-a3e5-7a4ddc4c37f5",
   "metadata": {},
   "source": [
    "Dropping..."
   ]
  },
  {
   "cell_type": "code",
   "execution_count": 7,
   "id": "e220885e-fa57-4198-9988-f264bf0a7673",
   "metadata": {},
   "outputs": [
    {
     "data": {
      "text/plain": [
       "18807"
      ]
     },
     "execution_count": 7,
     "metadata": {},
     "output_type": "execute_result"
    }
   ],
   "source": [
    "dropped_rows = df.na.drop(subset = ['audienceScore','tomatoMeter','releaseDateTheaters']).count()\n",
    "dropped_rows"
   ]
  },
  {
   "cell_type": "code",
   "execution_count": 9,
   "id": "693dd1fa-5964-43e3-b79d-b99fd5518904",
   "metadata": {},
   "outputs": [
    {
     "name": "stdout",
     "output_type": "stream",
     "text": [
      "Toal rows 18807\n",
      "-RECORD 0---------------------\n",
      " id                   | 0     \n",
      " title                | 0     \n",
      " audienceScore        | 0     \n",
      " tomatoMeter          | 0     \n",
      " rating               | 10975 \n",
      " ratingContents       | 10975 \n",
      " releaseDateTheaters  | 0     \n",
      " releaseDateStreaming | 1071  \n",
      " runtimeMinutes       | 28    \n",
      " genre                | 2     \n",
      " originalLanguage     | 129   \n",
      " director             | 28    \n",
      " writer               | 2567  \n",
      " boxOffice            | 7797  \n",
      " distributor          | 2158  \n",
      " soundMix             | 11187 \n",
      "\n"
     ]
    }
   ],
   "source": [
    "df = df.na.drop(subset = ['audienceScore','tomatoMeter','releaseDateTheaters'])\n",
    "show_missing(df)"
   ]
  },
  {
   "cell_type": "markdown",
   "id": "32b6828f-7e5e-4235-97bf-8d2b1402e62e",
   "metadata": {},
   "source": [
    "Good practice to check % dropped"
   ]
  },
  {
   "cell_type": "code",
   "execution_count": 55,
   "id": "2cc9e77e-c4ed-4a11-bd5c-0f2562c767ea",
   "metadata": {},
   "outputs": [
    {
     "data": {
      "text/plain": [
       "143258"
      ]
     },
     "execution_count": 55,
     "metadata": {},
     "output_type": "execute_result"
    }
   ],
   "source": [
    "num_rows = df.count()\n",
    "num_rows"
   ]
  },
  {
   "cell_type": "code",
   "execution_count": 56,
   "id": "bebad5e0-cdb9-4281-b027-ae5c616c344c",
   "metadata": {},
   "outputs": [
    {
     "data": {
      "text/plain": [
       "0.8687193734381327"
      ]
     },
     "execution_count": 56,
     "metadata": {},
     "output_type": "execute_result"
    }
   ],
   "source": [
    "percent_dropped = 1 - (dropped_rows/num_rows)\n",
    "percent_dropped"
   ]
  },
  {
   "cell_type": "code",
   "execution_count": 10,
   "id": "47c29e7c-9cf9-4e4c-ac1b-eab81907572f",
   "metadata": {
    "scrolled": true
   },
   "outputs": [
    {
     "name": "stdout",
     "output_type": "stream",
     "text": [
      "+--------------------+--------------------+-------------+-----------+------+--------------------+-------------------+--------------------+--------------+--------------------+--------------------+--------------------+--------------------+---------+--------------------+--------------------+\n",
      "|                  id|               title|audienceScore|tomatoMeter|rating|      ratingContents|releaseDateTheaters|releaseDateStreaming|runtimeMinutes|               genre|    originalLanguage|            director|              writer|boxOffice|         distributor|            soundMix|\n",
      "+--------------------+--------------------+-------------+-----------+------+--------------------+-------------------+--------------------+--------------+--------------------+--------------------+--------------------+--------------------+---------+--------------------+--------------------+\n",
      "|         adrift_2018|              Adrift|           65|         69| PG-13|['Injury Images',...|         2018-06-01|          2018-08-21|           120|Adventure, Drama,...|             English|   Baltasar Kormákur|Aaron Kandell,Jor...|   $31.4M|           STX Films|                NULL|\n",
      "|1035316-born_to_kill|        Born to Kill|           74|         83|  NULL|                NULL|         1947-04-30|          2016-05-23|            92|        Crime, Drama|             English|         Robert Wise|Eve Greene,Richar...|     NULL|                NULL|                NULL|\n",
      "|         1221483-paa|                 Paa|           67|         50|  NULL|                NULL|         2009-12-04|                NULL|           133|               Drama|               Hindi|            R. Balki|            R. Balki|  $199.2K|        Big Pictures|                NULL|\n",
      "|sarah_palin_you_b...|Sarah Palin: You ...|           61|         32|  NULL|                NULL|         2011-09-30|          2017-03-08|            90|         Documentary|             English|Nick Broomfield,J...|                NULL|   $10.5K| Freestyle Releasing|                NULL|\n",
      "|a_state_of_mind_2005|     A State of Mind|           92|         89|  NULL|                NULL|         2005-08-10|          2007-06-11|            93|         Documentary|              Korean|       Daniel Gordon|                NULL|   $41.5K|       Kino Pictures|                NULL|\n",
      "|        gun_shy_2017|               Salty|           38|          0|     R|['Some Sexual Con...|         2017-09-08|          2017-11-07|            86|      Comedy, Action|English (United K...|          Simon West|Toby Davies,Mark ...|     NULL|         Saban Films|                NULL|\n",
      "|         johnny_cool|         Johnny Cool|           44|         50|  NULL|                NULL|         1963-10-02|          2011-06-27|           103|        Crime, Drama|             English|       William Asher|                NULL|     NULL|                NULL|                NULL|\n",
      "|        race_the_sun|        Race the Sun|           41|         22|  NULL|                NULL|         1996-03-22|          2002-04-30|            99|               Drama|             English| Charles T. Kanganis|                NULL|    $1.7M|                NULL|            Surround|\n",
      "| paul_blart_mall_cop|Paul Blart: Mall Cop|           43|         34|    PG|['Mild Crude Humo...|         2009-01-16|          2009-05-19|            91|              Comedy|             English|          Steve Carr|Kevin James,Nick ...|  $146.3M|Sony Pictures Ent...|                NULL|\n",
      "|not_without_my_da...|Not Without My Da...|           71|         53|  NULL|                NULL|         1991-01-11|          2001-10-02|           110|               Drama|             English|       Brian Gilbert|Betty Mahmoody,Wi...|   $14.0M|                NULL|            Surround|\n",
      "|     monsoon_wedding|     Monsoon Wedding|           87|         95|     R|['Some Sex Relate...|         2002-02-22|          2002-09-24|           100|       Comedy, Drama|             English|           Mira Nair|      Sabrina Dhawan|   $13.9M|           USA Films|Dolby Stereo, Dol...|\n",
      "|         violet_2017|              Violet|           56|         85|  NULL|                NULL|         2017-05-12|          2018-11-17|            82|               Drama|               Dutch|           Bas Devos|           Bas Devos|     NULL|Ryan Bruce Levey ...|                NULL|\n",
      "|small_town_wisconsin|Small Town Wisconsin|           88|         83|  NULL|                NULL|         2022-06-03|          2022-06-10|           109|       Comedy, Drama|             English|       Niels Mueller|        Jason Naczek|     NULL| Quiver Distribution|                NULL|\n",
      "|the_100_year_old_...|The 100-Year-Old ...|           69|         68|     R|['Some Violence',...|         2015-05-01|          2015-08-18|           114|   Comedy, Adventure|             Swedish|      Felix Herngren|Felix Herngren,Ha...|  $923.9K|     Music Box Films|                NULL|\n",
      "|  rookie_of_the_year|  Rookie of the Year|           52|         38|  NULL|                NULL|         1993-07-07|          2002-01-29|           103|Kids & family, Co...|             English|        Daniel Stern|          Sam Harper|   $53.1M|    20th Century Fox|                NULL|\n",
      "|       playback_2011|            Playback|           76|          0|     R|['Some Teen Party...|         2012-03-09|          2012-05-08|            98|Horror, Mystery &...|             English|  Michael A. Nickles|  Michael A. Nickles|     $252|   Magnolia Pictures|                NULL|\n",
      "|the_man_who_kille...|The Man Who Kille...|           60|         66|  NULL|                NULL|         2019-04-10|          2019-04-19|           133|   Comedy, Adventure|             English|       Terry Gilliam|Terry Gilliam,Ton...|  $392.0K|  Screen Media Films| SDDS, Dolby Digital|\n",
      "|      endless_poetry|      Endless Poetry|           80|         93|  NULL|                NULL|         2017-07-14|          2017-11-19|           128|           Biography|             Spanish|Alejandro Jodorowsky|Alejandro Jodorowsky|   $64.0K|    ABKCO Films Inc.|                NULL|\n",
      "|   uzumasa_limelight|   Uzumasa Limelight|           88|         91|  NULL|                NULL|         2014-12-05|          2016-08-10|           103|       Drama, Action|            Japanese|          Ken Ochiai|        Hiroyuki Ono|     NULL|         Eleven Arts|                NULL|\n",
      "|        freeze-frame|        Freeze Frame|           60|         71|     R|['Language', 'Str...|         2004-06-18|          2005-01-18|           100|  Mystery & thriller|             English|        John Simpson|        John Simpson|     NULL|          First Look|Surround, Dolby D...|\n",
      "+--------------------+--------------------+-------------+-----------+------+--------------------+-------------------+--------------------+--------------+--------------------+--------------------+--------------------+--------------------+---------+--------------------+--------------------+\n",
      "only showing top 20 rows\n",
      "\n"
     ]
    }
   ],
   "source": [
    "df.show()"
   ]
  },
  {
   "cell_type": "markdown",
   "id": "b6d1df47-5c62-4cdf-ba1b-c5a1748209da",
   "metadata": {},
   "source": [
    "**Processing**"
   ]
  },
  {
   "cell_type": "markdown",
   "id": "76c9665c-cc17-48d0-9322-fe9f11445d04",
   "metadata": {},
   "source": [
    "a) Year: Create a year column by parsing the year from the releaseDateTheaters column.\n",
    "\n",
    "\r",
    "b) \n",
    "Top Movies: Find the top 500 movies based on Tomatometer score using functions like orderBy and limit."
   ]
  },
  {
   "cell_type": "markdown",
   "id": "9e37a2dd-cde2-45ed-aef7-23e2d9ff0af1",
   "metadata": {},
   "source": [
    "**Import functions to use date and time resources**"
   ]
  },
  {
   "cell_type": "code",
   "execution_count": 12,
   "id": "ab80dfab-0706-4cf6-9821-cf14dd0ac3dd",
   "metadata": {},
   "outputs": [
    {
     "name": "stdout",
     "output_type": "stream",
     "text": [
      "+----+\n",
      "|year|\n",
      "+----+\n",
      "|2018|\n",
      "|1947|\n",
      "|2009|\n",
      "|2011|\n",
      "|2005|\n",
      "|2017|\n",
      "|1963|\n",
      "|1996|\n",
      "|2009|\n",
      "|1991|\n",
      "|2002|\n",
      "|2017|\n",
      "|2022|\n",
      "|2015|\n",
      "|1993|\n",
      "|2012|\n",
      "|2019|\n",
      "|2017|\n",
      "|2014|\n",
      "|2004|\n",
      "+----+\n",
      "only showing top 20 rows\n",
      "\n"
     ]
    }
   ],
   "source": [
    "df = df.withColumn('year', F.year('releaseDateTheaters'))\n",
    "df.select('year').show()"
   ]
  },
  {
   "cell_type": "code",
   "execution_count": 13,
   "id": "18e94f16-72dd-4924-83f2-79aca1af5ab5",
   "metadata": {
    "scrolled": true
   },
   "outputs": [
    {
     "name": "stdout",
     "output_type": "stream",
     "text": [
      "+--------------------+--------------------+-------------+-----------+------+--------------------+-------------------+--------------------+--------------+--------------------+--------------------+--------------------+--------------------+---------+--------------------+--------------------+----+\n",
      "|                  id|               title|audienceScore|tomatoMeter|rating|      ratingContents|releaseDateTheaters|releaseDateStreaming|runtimeMinutes|               genre|    originalLanguage|            director|              writer|boxOffice|         distributor|            soundMix|year|\n",
      "+--------------------+--------------------+-------------+-----------+------+--------------------+-------------------+--------------------+--------------+--------------------+--------------------+--------------------+--------------------+---------+--------------------+--------------------+----+\n",
      "|         adrift_2018|              Adrift|           65|         69| PG-13|['Injury Images',...|         2018-06-01|          2018-08-21|           120|Adventure, Drama,...|             English|   Baltasar Kormákur|Aaron Kandell,Jor...|   $31.4M|           STX Films|                NULL|2018|\n",
      "|1035316-born_to_kill|        Born to Kill|           74|         83|  NULL|                NULL|         1947-04-30|          2016-05-23|            92|        Crime, Drama|             English|         Robert Wise|Eve Greene,Richar...|     NULL|                NULL|                NULL|1947|\n",
      "|         1221483-paa|                 Paa|           67|         50|  NULL|                NULL|         2009-12-04|                NULL|           133|               Drama|               Hindi|            R. Balki|            R. Balki|  $199.2K|        Big Pictures|                NULL|2009|\n",
      "|sarah_palin_you_b...|Sarah Palin: You ...|           61|         32|  NULL|                NULL|         2011-09-30|          2017-03-08|            90|         Documentary|             English|Nick Broomfield,J...|                NULL|   $10.5K| Freestyle Releasing|                NULL|2011|\n",
      "|a_state_of_mind_2005|     A State of Mind|           92|         89|  NULL|                NULL|         2005-08-10|          2007-06-11|            93|         Documentary|              Korean|       Daniel Gordon|                NULL|   $41.5K|       Kino Pictures|                NULL|2005|\n",
      "|        gun_shy_2017|               Salty|           38|          0|     R|['Some Sexual Con...|         2017-09-08|          2017-11-07|            86|      Comedy, Action|English (United K...|          Simon West|Toby Davies,Mark ...|     NULL|         Saban Films|                NULL|2017|\n",
      "|         johnny_cool|         Johnny Cool|           44|         50|  NULL|                NULL|         1963-10-02|          2011-06-27|           103|        Crime, Drama|             English|       William Asher|                NULL|     NULL|                NULL|                NULL|1963|\n",
      "|        race_the_sun|        Race the Sun|           41|         22|  NULL|                NULL|         1996-03-22|          2002-04-30|            99|               Drama|             English| Charles T. Kanganis|                NULL|    $1.7M|                NULL|            Surround|1996|\n",
      "| paul_blart_mall_cop|Paul Blart: Mall Cop|           43|         34|    PG|['Mild Crude Humo...|         2009-01-16|          2009-05-19|            91|              Comedy|             English|          Steve Carr|Kevin James,Nick ...|  $146.3M|Sony Pictures Ent...|                NULL|2009|\n",
      "|not_without_my_da...|Not Without My Da...|           71|         53|  NULL|                NULL|         1991-01-11|          2001-10-02|           110|               Drama|             English|       Brian Gilbert|Betty Mahmoody,Wi...|   $14.0M|                NULL|            Surround|1991|\n",
      "|     monsoon_wedding|     Monsoon Wedding|           87|         95|     R|['Some Sex Relate...|         2002-02-22|          2002-09-24|           100|       Comedy, Drama|             English|           Mira Nair|      Sabrina Dhawan|   $13.9M|           USA Films|Dolby Stereo, Dol...|2002|\n",
      "|         violet_2017|              Violet|           56|         85|  NULL|                NULL|         2017-05-12|          2018-11-17|            82|               Drama|               Dutch|           Bas Devos|           Bas Devos|     NULL|Ryan Bruce Levey ...|                NULL|2017|\n",
      "|small_town_wisconsin|Small Town Wisconsin|           88|         83|  NULL|                NULL|         2022-06-03|          2022-06-10|           109|       Comedy, Drama|             English|       Niels Mueller|        Jason Naczek|     NULL| Quiver Distribution|                NULL|2022|\n",
      "|the_100_year_old_...|The 100-Year-Old ...|           69|         68|     R|['Some Violence',...|         2015-05-01|          2015-08-18|           114|   Comedy, Adventure|             Swedish|      Felix Herngren|Felix Herngren,Ha...|  $923.9K|     Music Box Films|                NULL|2015|\n",
      "|  rookie_of_the_year|  Rookie of the Year|           52|         38|  NULL|                NULL|         1993-07-07|          2002-01-29|           103|Kids & family, Co...|             English|        Daniel Stern|          Sam Harper|   $53.1M|    20th Century Fox|                NULL|1993|\n",
      "|       playback_2011|            Playback|           76|          0|     R|['Some Teen Party...|         2012-03-09|          2012-05-08|            98|Horror, Mystery &...|             English|  Michael A. Nickles|  Michael A. Nickles|     $252|   Magnolia Pictures|                NULL|2012|\n",
      "|the_man_who_kille...|The Man Who Kille...|           60|         66|  NULL|                NULL|         2019-04-10|          2019-04-19|           133|   Comedy, Adventure|             English|       Terry Gilliam|Terry Gilliam,Ton...|  $392.0K|  Screen Media Films| SDDS, Dolby Digital|2019|\n",
      "|      endless_poetry|      Endless Poetry|           80|         93|  NULL|                NULL|         2017-07-14|          2017-11-19|           128|           Biography|             Spanish|Alejandro Jodorowsky|Alejandro Jodorowsky|   $64.0K|    ABKCO Films Inc.|                NULL|2017|\n",
      "|   uzumasa_limelight|   Uzumasa Limelight|           88|         91|  NULL|                NULL|         2014-12-05|          2016-08-10|           103|       Drama, Action|            Japanese|          Ken Ochiai|        Hiroyuki Ono|     NULL|         Eleven Arts|                NULL|2014|\n",
      "|        freeze-frame|        Freeze Frame|           60|         71|     R|['Language', 'Str...|         2004-06-18|          2005-01-18|           100|  Mystery & thriller|             English|        John Simpson|        John Simpson|     NULL|          First Look|Surround, Dolby D...|2004|\n",
      "+--------------------+--------------------+-------------+-----------+------+--------------------+-------------------+--------------------+--------------+--------------------+--------------------+--------------------+--------------------+---------+--------------------+--------------------+----+\n",
      "only showing top 20 rows\n",
      "\n"
     ]
    }
   ],
   "source": [
    "df.show()"
   ]
  },
  {
   "cell_type": "markdown",
   "id": "14bfd150-abdc-4704-85de-7e4d05d01c2d",
   "metadata": {},
   "source": [
    "**Check it pulled the years**"
   ]
  },
  {
   "cell_type": "code",
   "execution_count": 16,
   "id": "1cb07a60-83ef-4ec9-95a0-aced7305ba0d",
   "metadata": {
    "scrolled": true
   },
   "outputs": [
    {
     "name": "stdout",
     "output_type": "stream",
     "text": [
      "+-------------------+\n",
      "|releaseDateTheaters|\n",
      "+-------------------+\n",
      "|         2018-06-01|\n",
      "|         1947-04-30|\n",
      "|         2009-12-04|\n",
      "|         2011-09-30|\n",
      "|         2005-08-10|\n",
      "|         2017-09-08|\n",
      "|         1963-10-02|\n",
      "|         1996-03-22|\n",
      "|         2009-01-16|\n",
      "|         1991-01-11|\n",
      "|         2002-02-22|\n",
      "|         2017-05-12|\n",
      "|         2022-06-03|\n",
      "|         2015-05-01|\n",
      "|         1993-07-07|\n",
      "|         2012-03-09|\n",
      "|         2019-04-10|\n",
      "|         2017-07-14|\n",
      "|         2014-12-05|\n",
      "|         2004-06-18|\n",
      "+-------------------+\n",
      "only showing top 20 rows\n",
      "\n"
     ]
    }
   ],
   "source": [
    "df.select('releaseDateTheaters').show()"
   ]
  },
  {
   "cell_type": "markdown",
   "id": "eb08dd0f-d8c7-4440-9319-3348b5ae2381",
   "metadata": {},
   "source": [
    "Find the top 5000 movies based on Tomatometer score using functions like orderBy and limit.\n"
   ]
  },
  {
   "cell_type": "code",
   "execution_count": 19,
   "id": "bab6bf07-b178-4416-9e91-6637b4dc541e",
   "metadata": {},
   "outputs": [
    {
     "name": "stdout",
     "output_type": "stream",
     "text": [
      "Toal rows 5000\n",
      "-RECORD 0--------------------\n",
      " id                   | 0    \n",
      " title                | 0    \n",
      " audienceScore        | 0    \n",
      " tomatoMeter          | 0    \n",
      " rating               | 3734 \n",
      " ratingContents       | 3734 \n",
      " releaseDateTheaters  | 0    \n",
      " releaseDateStreaming | 365  \n",
      " runtimeMinutes       | 6    \n",
      " genre                | 0    \n",
      " originalLanguage     | 89   \n",
      " director             | 4    \n",
      " writer               | 965  \n",
      " boxOffice            | 2461 \n",
      " distributor          | 602  \n",
      " soundMix             | 3261 \n",
      " year                 | 0    \n",
      "\n"
     ]
    }
   ],
   "source": [
    "movies_sorted = df.orderBy(F.col(\"tomatoMeter\").desc()).limit(5000)\n",
    "show_missing(movies_sorted)"
   ]
  },
  {
   "cell_type": "code",
   "execution_count": 20,
   "id": "db16ccd1-33fd-4a3a-8e09-59b556710edd",
   "metadata": {},
   "outputs": [
    {
     "name": "stdout",
     "output_type": "stream",
     "text": [
      "+--------------------+-----------+-------------+----+--------------------+\n",
      "|               title|tomatoMeter|audienceScore|year|    originalLanguage|\n",
      "+--------------------+-----------+-------------+----+--------------------+\n",
      "|     The Human Trial|        100|           99|2022|             English|\n",
      "|             McLibel|        100|           69|2005|English (United K...|\n",
      "|   The Monkey King 2|        100|           52|2016|             Chinese|\n",
      "|       Roll Red Roll|        100|           75|2019|             English|\n",
      "| Singin' in the Rain|        100|           95|1952|             English|\n",
      "|   Skid Row Marathon|        100|          100|2019|             English|\n",
      "|     The Blue Dahlia|        100|           71|1946|             English|\n",
      "|Letter From Masanjia|        100|           89|2018|             English|\n",
      "|        Ballet Shoes|        100|           66|2008|             English|\n",
      "|    A Foreign Affair|        100|           78|1948|             English|\n",
      "|This Much I Know ...|        100|           96|2022|English (United K...|\n",
      "|All In: The Fight...|        100|           67|2020|             English|\n",
      "|    Say Your Prayers|        100|           47|2021|English (United K...|\n",
      "| Lumiere and Company|        100|           78|1996|     French (Canada)|\n",
      "| The Sunshine Makers|        100|           74|2017|English (United K...|\n",
      "|              Gloria|        100|           65|2014|             Spanish|\n",
      "|         At the Fork|        100|           75|2016|             English|\n",
      "|  Breaking a Monster|        100|           58|2016|             English|\n",
      "|    The Waiting Room|        100|           76|2012|             English|\n",
      "|             Coup 53|        100|           83|2020|             English|\n",
      "+--------------------+-----------+-------------+----+--------------------+\n",
      "only showing top 20 rows\n",
      "\n"
     ]
    }
   ],
   "source": [
    "movies_sorted.select('title', 'tomatoMeter', 'audienceScore', 'year', 'originalLanguage').show()\n"
   ]
  },
  {
   "cell_type": "code",
   "execution_count": 21,
   "id": "8a25f0e0-7a36-4648-af28-9baf6347382c",
   "metadata": {},
   "outputs": [
    {
     "name": "stdout",
     "output_type": "stream",
     "text": [
      "+----------------+\n",
      "|min(tomatoMeter)|\n",
      "+----------------+\n",
      "|              86|\n",
      "+----------------+\n",
      "\n"
     ]
    }
   ],
   "source": [
    "movies_sorted.select(F.min('tomatoMeter')).show()"
   ]
  },
  {
   "cell_type": "markdown",
   "id": "e5fcb995-0e21-433c-96f5-4799981de50c",
   "metadata": {},
   "source": [
    "**Save as Parquet**"
   ]
  },
  {
   "cell_type": "code",
   "execution_count": 24,
   "id": "ad4d18fd-122c-409c-87d8-c9da5afcf17a",
   "metadata": {},
   "outputs": [],
   "source": [
    "movies_sorted.write.parquet('./data/moves_sorted.parquet', mode='overwrite')"
   ]
  },
  {
   "cell_type": "markdown",
   "id": "1090852c-7ed0-4797-bc9a-82ef82f00ef8",
   "metadata": {},
   "source": [
    "**Pandas Data Analysis**"
   ]
  },
  {
   "cell_type": "code",
   "execution_count": 23,
   "id": "6d2b0bc1-f224-4f5a-8991-aa2d2ffdd093",
   "metadata": {},
   "outputs": [],
   "source": [
    "import pandas as pd\n",
    "import seaborn as sns\n",
    "import matplotlib.pyplot as plt"
   ]
  },
  {
   "cell_type": "code",
   "execution_count": null,
   "id": "08281a91-39ef-47d5-9c4d-f4fd07465e2a",
   "metadata": {},
   "outputs": [],
   "source": [
    "# Create pandas df\n",
    "\n",
    "# use .toPandas()"
   ]
  },
  {
   "cell_type": "markdown",
   "id": "2f175bba-ff89-40f1-b39f-af47e063282a",
   "metadata": {},
   "source": [
    "pandas_df = movies_sorted.toPandas()\n",
    "pandas_df"
   ]
  },
  {
   "cell_type": "markdown",
   "id": "e5492a32-5a6e-494f-bf90-344a441f9eae",
   "metadata": {},
   "source": [
    "Scatter plot: Exploring the relationship between audience score and Tomatometer score.\r\n"
   ]
  },
  {
   "cell_type": "code",
   "execution_count": 26,
   "id": "7be93467-e77e-4648-8db3-80360180330a",
   "metadata": {},
   "outputs": [
    {
     "data": {
      "image/png": "[encoded data removed]",
      "text/plain": [
       "<Figure size 640x480 with 1 Axes>"
      ]
     },
     "metadata": {},
     "output_type": "display_data"
    }
   ],
   "source": [
    "sns.scatterplot(x = 'audienceScore', y = 'tomatoMeter', data = pandas_df)\n",
    "plt.title('Audience score vs Tomatometer score')\n",
    "plt.xlabel(\"Audience Score\")\n",
    "plt.ylabel(\"Tomatometer Score\")\n",
    "plt.show()"
   ]
  },
  {
   "cell_type": "markdown",
   "id": "e8dcbb47-447c-4a03-80fe-0ec7b7ce916f",
   "metadata": {},
   "source": [
    "Line Chart: Analyzing trends in average Tomatometer score and audience score over time (years)."
   ]
  },
  {
   "cell_type": "code",
   "execution_count": 32,
   "id": "67ff78d5-aef2-4351-bcfe-60bc7e3fcea9",
   "metadata": {},
   "outputs": [],
   "source": [
    "from pyspark.sql.functions import avg"
   ]
  },
  {
   "cell_type": "code",
   "execution_count": 34,
   "id": "322136f9-3dee-4f71-93ea-899f8775820b",
   "metadata": {},
   "outputs": [],
   "source": [
    "avg_tomato =  df.agg(avg('tomatoMeter')).first()[0]\n",
    "avg_audience =  df.agg(avg('audienceScore')).first()[0]"
   ]
  },
  {
   "cell_type": "code",
   "execution_count": 37,
   "id": "3766afe8-ebb2-4079-a20f-aa025406e515",
   "metadata": {},
   "outputs": [
    {
     "name": "stdout",
     "output_type": "stream",
     "text": [
      "63.535332588929656\n"
     ]
    }
   ],
   "source": [
    "print(avg_tomato)"
   ]
  },
  {
   "cell_type": "code",
   "execution_count": 49,
   "id": "0815c0b5-bf6e-45a1-9f9b-6be5d522d6ef",
   "metadata": {},
   "outputs": [],
   "source": [
    "avg_scores_by_year = pandas_df.groupby(\"year\").agg({\n",
    "    \"audienceScore\": \"mean\",\n",
    "    \"tomatoMeter\": \"mean\"\n",
    "}).reset_index()"
   ]
  },
  {
   "cell_type": "code",
   "execution_count": 51,
   "id": "bb3290af-6709-4541-ad97-c700d98a4fe3",
   "metadata": {},
   "outputs": [
    {
     "data": {
      "image/png": "[encoded data removed]",
      "text/plain": [
       "<Figure size 640x480 with 1 Axes>"
      ]
     },
     "metadata": {},
     "output_type": "display_data"
    }
   ],
   "source": [
    "sns.lineplot(x='year', y='tomatoMeter', data=avg_scores_by_year, label='Avg Tomatometer Score')\n",
    "sns.lineplot(x='year', y='audienceScore', data=avg_scores_by_year, label='Avg Audience Score')\n",
    "plt.title('Average Tomatometer Score & Audience Score by Year')\n",
    "plt.xlabel('Year')\n",
    "plt.ylabel('Average Score')\n",
    "plt.show()"
   ]
  },
  {
   "cell_type": "markdown",
   "id": "6ea9f99d-8b5d-41dd-b525-478b616a0239",
   "metadata": {},
   "source": [
    "Bar Chart: Compare average audience score to the average Tomatometer score, grouped by original language."
   ]
  },
  {
   "cell_type": "code",
   "execution_count": 40,
   "id": "37c211d2-5c3c-42c2-a800-85861fbe1fd8",
   "metadata": {},
   "outputs": [
    {
     "data": {
      "text/html": [
       "<div>\n",
       "<style scoped>\n",
       "    .dataframe tbody tr th:only-of-type {\n",
       "        vertical-align: middle;\n",
       "    }\n",
       "\n",
       "    .dataframe tbody tr th {\n",
       "        vertical-align: top;\n",
       "    }\n",
       "\n",
       "    .dataframe thead th {\n",
       "        text-align: right;\n",
       "    }\n",
       "</style>\n",
       "<table border=\"1\" class=\"dataframe\">\n",
       "  <thead>\n",
       "    <tr style=\"text-align: right;\">\n",
       "      <th></th>\n",
       "      <th>originalLanguage</th>\n",
       "      <th>audienceScore</th>\n",
       "    </tr>\n",
       "  </thead>\n",
       "  <tbody>\n",
       "    <tr>\n",
       "      <th>0</th>\n",
       "      <td>Afrikaans</td>\n",
       "      <td>69.666667</td>\n",
       "    </tr>\n",
       "    <tr>\n",
       "      <th>1</th>\n",
       "      <td>Albanian</td>\n",
       "      <td>81.000000</td>\n",
       "    </tr>\n",
       "    <tr>\n",
       "      <th>2</th>\n",
       "      <td>Arabic</td>\n",
       "      <td>81.021277</td>\n",
       "    </tr>\n",
       "    <tr>\n",
       "      <th>3</th>\n",
       "      <td>Armenian</td>\n",
       "      <td>73.000000</td>\n",
       "    </tr>\n",
       "    <tr>\n",
       "      <th>4</th>\n",
       "      <td>Bambara</td>\n",
       "      <td>84.000000</td>\n",
       "    </tr>\n",
       "    <tr>\n",
       "      <th>...</th>\n",
       "      <td>...</td>\n",
       "      <td>...</td>\n",
       "    </tr>\n",
       "    <tr>\n",
       "      <th>73</th>\n",
       "      <td>Urdu</td>\n",
       "      <td>78.000000</td>\n",
       "    </tr>\n",
       "    <tr>\n",
       "      <th>74</th>\n",
       "      <td>Vietnamese</td>\n",
       "      <td>72.600000</td>\n",
       "    </tr>\n",
       "    <tr>\n",
       "      <th>75</th>\n",
       "      <td>Wolof</td>\n",
       "      <td>67.333333</td>\n",
       "    </tr>\n",
       "    <tr>\n",
       "      <th>76</th>\n",
       "      <td>Yiddish</td>\n",
       "      <td>64.500000</td>\n",
       "    </tr>\n",
       "    <tr>\n",
       "      <th>77</th>\n",
       "      <td>shg</td>\n",
       "      <td>78.000000</td>\n",
       "    </tr>\n",
       "  </tbody>\n",
       "</table>\n",
       "<p>78 rows × 2 columns</p>\n",
       "</div>"
      ],
      "text/plain": [
       "   originalLanguage  audienceScore\n",
       "0         Afrikaans      69.666667\n",
       "1          Albanian      81.000000\n",
       "2            Arabic      81.021277\n",
       "3          Armenian      73.000000\n",
       "4           Bambara      84.000000\n",
       "..              ...            ...\n",
       "73             Urdu      78.000000\n",
       "74       Vietnamese      72.600000\n",
       "75            Wolof      67.333333\n",
       "76          Yiddish      64.500000\n",
       "77              shg      78.000000\n",
       "\n",
       "[78 rows x 2 columns]"
      ]
     },
     "execution_count": 40,
     "metadata": {},
     "output_type": "execute_result"
    }
   ],
   "source": [
    "avg_audience = pandas_df.groupby('originalLanguage')['audienceScore'].mean().reset_index()\n",
    "avg_audience"
   ]
  },
  {
   "cell_type": "code",
   "execution_count": 47,
   "id": "d1bc12ff-b5da-47b8-b6c1-955961dd6a48",
   "metadata": {},
   "outputs": [
    {
     "data": {
      "text/html": [
       "<div>\n",
       "<style scoped>\n",
       "    .dataframe tbody tr th:only-of-type {\n",
       "        vertical-align: middle;\n",
       "    }\n",
       "\n",
       "    .dataframe tbody tr th {\n",
       "        vertical-align: top;\n",
       "    }\n",
       "\n",
       "    .dataframe thead th {\n",
       "        text-align: right;\n",
       "    }\n",
       "</style>\n",
       "<table border=\"1\" class=\"dataframe\">\n",
       "  <thead>\n",
       "    <tr style=\"text-align: right;\">\n",
       "      <th></th>\n",
       "      <th>originalLanguage</th>\n",
       "      <th>tomatoMeter</th>\n",
       "    </tr>\n",
       "  </thead>\n",
       "  <tbody>\n",
       "    <tr>\n",
       "      <th>0</th>\n",
       "      <td>Afrikaans</td>\n",
       "      <td>93.000000</td>\n",
       "    </tr>\n",
       "    <tr>\n",
       "      <th>1</th>\n",
       "      <td>Albanian</td>\n",
       "      <td>100.000000</td>\n",
       "    </tr>\n",
       "    <tr>\n",
       "      <th>2</th>\n",
       "      <td>Arabic</td>\n",
       "      <td>93.893617</td>\n",
       "    </tr>\n",
       "    <tr>\n",
       "      <th>3</th>\n",
       "      <td>Armenian</td>\n",
       "      <td>93.000000</td>\n",
       "    </tr>\n",
       "    <tr>\n",
       "      <th>4</th>\n",
       "      <td>Bambara</td>\n",
       "      <td>99.000000</td>\n",
       "    </tr>\n",
       "    <tr>\n",
       "      <th>...</th>\n",
       "      <td>...</td>\n",
       "      <td>...</td>\n",
       "    </tr>\n",
       "    <tr>\n",
       "      <th>73</th>\n",
       "      <td>Urdu</td>\n",
       "      <td>95.750000</td>\n",
       "    </tr>\n",
       "    <tr>\n",
       "      <th>74</th>\n",
       "      <td>Vietnamese</td>\n",
       "      <td>96.200000</td>\n",
       "    </tr>\n",
       "    <tr>\n",
       "      <th>75</th>\n",
       "      <td>Wolof</td>\n",
       "      <td>91.666667</td>\n",
       "    </tr>\n",
       "    <tr>\n",
       "      <th>76</th>\n",
       "      <td>Yiddish</td>\n",
       "      <td>97.500000</td>\n",
       "    </tr>\n",
       "    <tr>\n",
       "      <th>77</th>\n",
       "      <td>shg</td>\n",
       "      <td>93.000000</td>\n",
       "    </tr>\n",
       "  </tbody>\n",
       "</table>\n",
       "<p>78 rows × 2 columns</p>\n",
       "</div>"
      ],
      "text/plain": [
       "   originalLanguage  tomatoMeter\n",
       "0         Afrikaans    93.000000\n",
       "1          Albanian   100.000000\n",
       "2            Arabic    93.893617\n",
       "3          Armenian    93.000000\n",
       "4           Bambara    99.000000\n",
       "..              ...          ...\n",
       "73             Urdu    95.750000\n",
       "74       Vietnamese    96.200000\n",
       "75            Wolof    91.666667\n",
       "76          Yiddish    97.500000\n",
       "77              shg    93.000000\n",
       "\n",
       "[78 rows x 2 columns]"
      ]
     },
     "execution_count": 47,
     "metadata": {},
     "output_type": "execute_result"
    }
   ],
   "source": [
    "avg_tom = pandas_df.groupby('originalLanguage')['tomatoMeter'].mean().reset_index()\n",
    "avg_tom"
   ]
  },
  {
   "cell_type": "code",
   "execution_count": 52,
   "id": "81535b63-7331-435e-8177-f0bad496de46",
   "metadata": {},
   "outputs": [],
   "source": [
    "languages_grouped = pandas_df.groupby(\"originalLanguage\").agg({\n",
    "    \"audienceScore\": \"mean\",\n",
    "    \"tomatoMeter\": \"mean\"\n",
    "}).reset_index()"
   ]
  },
  {
   "cell_type": "code",
   "execution_count": 55,
   "id": "fb471028-1909-4a10-9be0-53bf973e710e",
   "metadata": {},
   "outputs": [
    {
     "data": {
      "image/png": "[encoded data removed]",
      "text/plain": [
       "<Figure size 640x480 with 1 Axes>"
      ]
     },
     "metadata": {},
     "output_type": "display_data"
    }
   ],
   "source": [
    "# Plotting with Seaborn (bar plot)\n",
    "sns.barplot(x='originalLanguage', y='tomatoMeter', data=languages_grouped)\n",
    "plt.show()"
   ]
  },
  {
   "cell_type": "code",
   "execution_count": null,
   "id": "d078bb5e-a405-46af-9d72-f770036f8e41",
   "metadata": {},
   "outputs": [],
   "source": []
  }
 ],
 "metadata": {
  "kernelspec": {
   "display_name": "Python 3 (ipykernel)",
   "language": "python",
   "name": "python3"
  },
  "language_info": {
   "codemirror_mode": {
    "name": "ipython",
    "version": 3
   },
   "file_extension": ".py",
   "mimetype": "text/x-python",
   "name": "python",
   "nbconvert_exporter": "python",
   "pygments_lexer": "ipython3",
   "version": "3.11.6"
  }
 },
 "nbformat": 4,
 "nbformat_minor": 5
}
